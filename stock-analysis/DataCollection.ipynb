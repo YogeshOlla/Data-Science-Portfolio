{
 "cells": [
  {
   "cell_type": "code",
   "execution_count": 6,
   "id": "1f759ad8",
   "metadata": {},
   "outputs": [],
   "source": [
    "import pandas as pd\n",
    "import requests\n",
    "from bs4 import BeautifulSoup as bs\n",
    "import time"
   ]
  },
  {
   "cell_type": "code",
   "execution_count": 7,
   "id": "3dbe2658",
   "metadata": {},
   "outputs": [],
   "source": [
    "def get_nse_listings():\n",
    "    # Downloads the current listings from NSE official website\n",
    "    listings_url = 'https://archives.nseindia.com/content/equities/EQUITY_L.csv'\n",
    "    return pd.read_csv(listings_url, index_col='SYMBOL')"
   ]
  },
  {
   "cell_type": "code",
   "execution_count": 8,
   "id": "343bc5d6",
   "metadata": {},
   "outputs": [],
   "source": [
    "def getData(ticker):\n",
    "    # Collecting info about a stock using it's ticker\n",
    "    print(f'\\nCollecting data on {ticker}.')\n",
    "    headers = {'User-Agent': 'Mozilla/5.0 (Windows NT 10.0; Win64; x64) AppleWebKit/537.36 (KHTML, like Gecko) Chrome/104.0.5112.81 Safari/537.36'}\n",
    "    \n",
    "    url = 'https://finance.yahoo.com/quote/'+str(ticker)+'.NS/profile?'\n",
    "    print(f'\\nCollecting data from {url}.')\n",
    "    \n",
    "    response = requests.get(url, headers=headers)\n",
    "    #print(response.status_code)\n",
    "    soup = bs(response.text, 'html.parser')\n",
    "    print(f'\\nParsing Data')\n",
    "    \n",
    "    try:name = soup.find('h3',{'class': 'Fz(m) Mb(10px)'}).text.strip()\n",
    "    except:name = 'N/A'\n",
    "    \n",
    "    try:sector = soup.find('p',{'class': \"D(ib) Va(t)\"}).find_all('span',{'class': 'Fw(600)'})[0].text.strip()\n",
    "    except:sector = 'N/A'\n",
    "    \n",
    "    try:industry = soup.find('p',{'class': \"D(ib) Va(t)\"}).find_all('span',{'class': 'Fw(600)'})[1].text.strip()\n",
    "    except:industry = 'N/A'\n",
    "    stock_info = {\n",
    "        'ticker': ticker,\n",
    "        'name': name,\n",
    "        'sectors': sector,\n",
    "        'industry': industry\n",
    "    }\n",
    "    return stock_info"
   ]
  },
  {
   "cell_type": "code",
   "execution_count": 12,
   "id": "a94057cf",
   "metadata": {},
   "outputs": [],
   "source": [
    "response = requests.get('https://finance.yahoo.com/quote/3PLAND.NS/profile?')"
   ]
  },
  {
   "cell_type": "code",
   "execution_count": 13,
   "id": "8be78f14",
   "metadata": {},
   "outputs": [],
   "source": [
    "soup = bs(response.text, 'html.parser')"
   ]
  },
  {
   "cell_type": "code",
   "execution_count": 19,
   "id": "b4126591",
   "metadata": {},
   "outputs": [],
   "source": [
    "try:\n",
    "    name = soup.find('p',{'class': \"D(ib) Va(t)\"}).find_all('span',{'class': 'Fw(600)'})[0]\n",
    "except:\n",
    "    name = 'N/A'"
   ]
  },
  {
   "cell_type": "code",
   "execution_count": 20,
   "id": "2f1b0c72",
   "metadata": {},
   "outputs": [
    {
     "data": {
      "text/plain": [
       "'N/A'"
      ]
     },
     "execution_count": 20,
     "metadata": {},
     "output_type": "execute_result"
    }
   ],
   "source": [
    "name"
   ]
  },
  {
   "cell_type": "code",
   "execution_count": 9,
   "id": "1945860c",
   "metadata": {},
   "outputs": [],
   "source": [
    "df = get_nse_listings()\n",
    "\n",
    "tickers = df.index.to_list()\n",
    "\n",
    "stock_info = list()"
   ]
  },
  {
   "cell_type": "code",
   "execution_count": 10,
   "id": "c7f3ebf2",
   "metadata": {},
   "outputs": [
    {
     "name": "stdout",
     "output_type": "stream",
     "text": [
      "\n",
      "Collecting data on 20MICRONS.\n",
      "\n",
      "Collecting data from https://finance.yahoo.com/quote/20MICRONS.NS/profile?.\n",
      "\n",
      "Parsing Data\n",
      "\n",
      "{'ticker': '20MICRONS', 'name': '20 Microns Limited', 'sectors': 'Basic Materials', 'industry': 'Other Industrial Metals & Mining'}\n",
      "\n",
      "Collecting data on 21STCENMGM.\n",
      "\n",
      "Collecting data from https://finance.yahoo.com/quote/21STCENMGM.NS/profile?.\n",
      "\n",
      "Parsing Data\n",
      "\n",
      "{'ticker': '21STCENMGM', 'name': 'Twentyfirst Century Management Services Limited', 'sectors': 'Financial Services', 'industry': 'Capital Markets'}\n",
      "\n",
      "Collecting data on 3IINFOLTD.\n",
      "\n",
      "Collecting data from https://finance.yahoo.com/quote/3IINFOLTD.NS/profile?.\n",
      "\n",
      "Parsing Data\n",
      "\n",
      "{'ticker': '3IINFOLTD', 'name': '3i Infotech Limited', 'sectors': 'Technology', 'industry': 'Information Technology Services'}\n",
      "\n",
      "Collecting data on 3MINDIA.\n",
      "\n",
      "Collecting data from https://finance.yahoo.com/quote/3MINDIA.NS/profile?.\n",
      "\n",
      "Parsing Data\n",
      "\n",
      "{'ticker': '3MINDIA', 'name': '3M India Limited', 'sectors': 'Industrials', 'industry': 'Conglomerates'}\n",
      "\n",
      "Collecting data on 3PLAND.\n",
      "\n",
      "Collecting data from https://finance.yahoo.com/quote/3PLAND.NS/profile?.\n",
      "\n",
      "Parsing Data\n"
     ]
    },
    {
     "ename": "AttributeError",
     "evalue": "'NoneType' object has no attribute 'find_all'",
     "output_type": "error",
     "traceback": [
      "\u001b[0;31m---------------------------------------------------------------------------\u001b[0m",
      "\u001b[0;31mAttributeError\u001b[0m                            Traceback (most recent call last)",
      "\u001b[1;32m/home/yogesh/workspace/Data-Science-Portfolio/stock-analysis/DataCollection.ipynb Cell 5\u001b[0m in \u001b[0;36m<cell line: 1>\u001b[0;34m()\u001b[0m\n\u001b[1;32m      <a href='vscode-notebook-cell://wsl%2Bubuntu-20.04/home/yogesh/workspace/Data-Science-Portfolio/stock-analysis/DataCollection.ipynb#X16sdnNjb2RlLXJlbW90ZQ%3D%3D?line=0'>1</a>\u001b[0m \u001b[39mfor\u001b[39;00m ticker \u001b[39min\u001b[39;00m tickers:\n\u001b[0;32m----> <a href='vscode-notebook-cell://wsl%2Bubuntu-20.04/home/yogesh/workspace/Data-Science-Portfolio/stock-analysis/DataCollection.ipynb#X16sdnNjb2RlLXJlbW90ZQ%3D%3D?line=1'>2</a>\u001b[0m     data \u001b[39m=\u001b[39m getData(ticker)\n\u001b[1;32m      <a href='vscode-notebook-cell://wsl%2Bubuntu-20.04/home/yogesh/workspace/Data-Science-Portfolio/stock-analysis/DataCollection.ipynb#X16sdnNjb2RlLXJlbW90ZQ%3D%3D?line=2'>3</a>\u001b[0m     \u001b[39mprint\u001b[39m(\u001b[39mf\u001b[39m\u001b[39m'\u001b[39m\u001b[39m\\n\u001b[39;00m\u001b[39m{\u001b[39;00mdata\u001b[39m}\u001b[39;00m\u001b[39m'\u001b[39m)\n\u001b[1;32m      <a href='vscode-notebook-cell://wsl%2Bubuntu-20.04/home/yogesh/workspace/Data-Science-Portfolio/stock-analysis/DataCollection.ipynb#X16sdnNjb2RlLXJlbW90ZQ%3D%3D?line=3'>4</a>\u001b[0m     stock_info\u001b[39m.\u001b[39mappend(data)\n",
      "\u001b[1;32m/home/yogesh/workspace/Data-Science-Portfolio/stock-analysis/DataCollection.ipynb Cell 5\u001b[0m in \u001b[0;36mgetData\u001b[0;34m(ticker)\u001b[0m\n\u001b[1;32m     <a href='vscode-notebook-cell://wsl%2Bubuntu-20.04/home/yogesh/workspace/Data-Science-Portfolio/stock-analysis/DataCollection.ipynb#X16sdnNjb2RlLXJlbW90ZQ%3D%3D?line=11'>12</a>\u001b[0m \u001b[39mprint\u001b[39m(\u001b[39mf\u001b[39m\u001b[39m'\u001b[39m\u001b[39m\\n\u001b[39;00m\u001b[39mParsing Data\u001b[39m\u001b[39m'\u001b[39m)\n\u001b[1;32m     <a href='vscode-notebook-cell://wsl%2Bubuntu-20.04/home/yogesh/workspace/Data-Science-Portfolio/stock-analysis/DataCollection.ipynb#X16sdnNjb2RlLXJlbW90ZQ%3D%3D?line=13'>14</a>\u001b[0m name \u001b[39m=\u001b[39m soup\u001b[39m.\u001b[39mfind(\u001b[39m'\u001b[39m\u001b[39mh3\u001b[39m\u001b[39m'\u001b[39m,{\u001b[39m'\u001b[39m\u001b[39mclass\u001b[39m\u001b[39m'\u001b[39m: \u001b[39m'\u001b[39m\u001b[39mFz(m) Mb(10px)\u001b[39m\u001b[39m'\u001b[39m})\n\u001b[0;32m---> <a href='vscode-notebook-cell://wsl%2Bubuntu-20.04/home/yogesh/workspace/Data-Science-Portfolio/stock-analysis/DataCollection.ipynb#X16sdnNjb2RlLXJlbW90ZQ%3D%3D?line=14'>15</a>\u001b[0m sector \u001b[39m=\u001b[39m soup\u001b[39m.\u001b[39;49mfind(\u001b[39m'\u001b[39;49m\u001b[39mp\u001b[39;49m\u001b[39m'\u001b[39;49m,{\u001b[39m'\u001b[39;49m\u001b[39mclass\u001b[39;49m\u001b[39m'\u001b[39;49m: \u001b[39m\"\u001b[39;49m\u001b[39mD(ib) Va(t)\u001b[39;49m\u001b[39m\"\u001b[39;49m})\u001b[39m.\u001b[39;49mfind_all(\u001b[39m'\u001b[39m\u001b[39mspan\u001b[39m\u001b[39m'\u001b[39m,{\u001b[39m'\u001b[39m\u001b[39mclass\u001b[39m\u001b[39m'\u001b[39m: \u001b[39m'\u001b[39m\u001b[39mFw(600)\u001b[39m\u001b[39m'\u001b[39m})[\u001b[39m0\u001b[39m]\n\u001b[1;32m     <a href='vscode-notebook-cell://wsl%2Bubuntu-20.04/home/yogesh/workspace/Data-Science-Portfolio/stock-analysis/DataCollection.ipynb#X16sdnNjb2RlLXJlbW90ZQ%3D%3D?line=15'>16</a>\u001b[0m industry \u001b[39m=\u001b[39m soup\u001b[39m.\u001b[39mfind(\u001b[39m'\u001b[39m\u001b[39mp\u001b[39m\u001b[39m'\u001b[39m,{\u001b[39m'\u001b[39m\u001b[39mclass\u001b[39m\u001b[39m'\u001b[39m: \u001b[39m\"\u001b[39m\u001b[39mD(ib) Va(t)\u001b[39m\u001b[39m\"\u001b[39m})\u001b[39m.\u001b[39mfind_all(\u001b[39m'\u001b[39m\u001b[39mspan\u001b[39m\u001b[39m'\u001b[39m,{\u001b[39m'\u001b[39m\u001b[39mclass\u001b[39m\u001b[39m'\u001b[39m: \u001b[39m'\u001b[39m\u001b[39mFw(600)\u001b[39m\u001b[39m'\u001b[39m})[\u001b[39m1\u001b[39m]\n\u001b[1;32m     <a href='vscode-notebook-cell://wsl%2Bubuntu-20.04/home/yogesh/workspace/Data-Science-Portfolio/stock-analysis/DataCollection.ipynb#X16sdnNjb2RlLXJlbW90ZQ%3D%3D?line=17'>18</a>\u001b[0m stock_info \u001b[39m=\u001b[39m {\n\u001b[1;32m     <a href='vscode-notebook-cell://wsl%2Bubuntu-20.04/home/yogesh/workspace/Data-Science-Portfolio/stock-analysis/DataCollection.ipynb#X16sdnNjb2RlLXJlbW90ZQ%3D%3D?line=18'>19</a>\u001b[0m     \u001b[39m'\u001b[39m\u001b[39mticker\u001b[39m\u001b[39m'\u001b[39m: ticker,\n\u001b[1;32m     <a href='vscode-notebook-cell://wsl%2Bubuntu-20.04/home/yogesh/workspace/Data-Science-Portfolio/stock-analysis/DataCollection.ipynb#X16sdnNjb2RlLXJlbW90ZQ%3D%3D?line=19'>20</a>\u001b[0m     \u001b[39m'\u001b[39m\u001b[39mname\u001b[39m\u001b[39m'\u001b[39m: name\u001b[39m.\u001b[39mtext\u001b[39m.\u001b[39mstrip() \u001b[39mif\u001b[39;00m name \u001b[39melse\u001b[39;00m \u001b[39m'\u001b[39m\u001b[39mN/A\u001b[39m\u001b[39m'\u001b[39m,\n\u001b[1;32m     <a href='vscode-notebook-cell://wsl%2Bubuntu-20.04/home/yogesh/workspace/Data-Science-Portfolio/stock-analysis/DataCollection.ipynb#X16sdnNjb2RlLXJlbW90ZQ%3D%3D?line=20'>21</a>\u001b[0m     \u001b[39m'\u001b[39m\u001b[39msectors\u001b[39m\u001b[39m'\u001b[39m: sector\u001b[39m.\u001b[39mtext\u001b[39m.\u001b[39mstrip() \u001b[39mif\u001b[39;00m sector \u001b[39melse\u001b[39;00m \u001b[39m'\u001b[39m\u001b[39mN/A\u001b[39m\u001b[39m'\u001b[39m,\n\u001b[1;32m     <a href='vscode-notebook-cell://wsl%2Bubuntu-20.04/home/yogesh/workspace/Data-Science-Portfolio/stock-analysis/DataCollection.ipynb#X16sdnNjb2RlLXJlbW90ZQ%3D%3D?line=21'>22</a>\u001b[0m     \u001b[39m'\u001b[39m\u001b[39mindustry\u001b[39m\u001b[39m'\u001b[39m: industry\u001b[39m.\u001b[39mtext\u001b[39m.\u001b[39mstrip() \u001b[39mif\u001b[39;00m sector \u001b[39melse\u001b[39;00m \u001b[39m'\u001b[39m\u001b[39mN/A\u001b[39m\u001b[39m'\u001b[39m\n\u001b[1;32m     <a href='vscode-notebook-cell://wsl%2Bubuntu-20.04/home/yogesh/workspace/Data-Science-Portfolio/stock-analysis/DataCollection.ipynb#X16sdnNjb2RlLXJlbW90ZQ%3D%3D?line=22'>23</a>\u001b[0m }\n",
      "\u001b[0;31mAttributeError\u001b[0m: 'NoneType' object has no attribute 'find_all'"
     ]
    }
   ],
   "source": [
    "for ticker in tickers:\n",
    "    data = getData(ticker)\n",
    "    print(f'\\n{data}')\n",
    "    stock_info.append(data)\n",
    "    time.sleep(1)"
   ]
  },
  {
   "cell_type": "code",
   "execution_count": null,
   "id": "b684fd1c",
   "metadata": {},
   "outputs": [],
   "source": []
  }
 ],
 "metadata": {
  "kernelspec": {
   "display_name": "Python 3 (ipykernel)",
   "language": "python",
   "name": "python3"
  },
  "language_info": {
   "codemirror_mode": {
    "name": "ipython",
    "version": 3
   },
   "file_extension": ".py",
   "mimetype": "text/x-python",
   "name": "python",
   "nbconvert_exporter": "python",
   "pygments_lexer": "ipython3",
   "version": "3.10.4"
  },
  "vscode": {
   "interpreter": {
    "hash": "2a1c467706bfe8508be2b2a09c9a8413334bce44f92137fb51be0ab4e3792b9d"
   }
  }
 },
 "nbformat": 4,
 "nbformat_minor": 5
}

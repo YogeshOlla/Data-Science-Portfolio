{
 "cells": [
  {
   "cell_type": "markdown",
   "metadata": {
    "id": "3J7mMKyKjOLa"
   },
   "source": [
    "# Air Quality EDA, India 2015-22"
   ]
  },
  {
   "cell_type": "markdown",
   "metadata": {
    "id": "9-KbeWOmlJx7"
   },
   "source": [
    "## What is EDA"
   ]
  },
  {
   "cell_type": "markdown",
   "metadata": {
    "id": "4axGFtL3l5GB"
   },
   "source": [
    "Exploratory Data Analysis (EDA) is an approach to analyze the data using visual techniques. It is used to discover trends, patterns, or to check assumptions with the help of statistical summary and graphical representations. \n",
    "\n",
    "Hyperlink to EDA https://www.geeksforgeeks.org/what-is-exploratory-data-analysis/"
   ]
  },
  {
   "cell_type": "markdown",
   "metadata": {
    "id": "QWlsRD-ulRbC"
   },
   "source": [
    "## Project Outline"
   ]
  },
  {
   "cell_type": "markdown",
   "metadata": {
    "id": "bSTSSCpCkXhi"
   },
   "source": [
    "## Envorment Setup"
   ]
  },
  {
   "cell_type": "code",
   "execution_count": 1,
   "metadata": {
    "executionInfo": {
     "elapsed": 8779,
     "status": "ok",
     "timestamp": 1662901757223,
     "user": {
      "displayName": "Yogesh Olla",
      "userId": "12295718550883270853"
     },
     "user_tz": -330
    },
    "id": "TiE5GCdrkhOS"
   },
   "outputs": [],
   "source": [
    "!pip install pandas numpy opendatasets matplotlib plotly seaborn --upgrade --quiet"
   ]
  },
  {
   "cell_type": "code",
   "execution_count": 2,
   "metadata": {
    "executionInfo": {
     "elapsed": 2444,
     "status": "ok",
     "timestamp": 1662901759662,
     "user": {
      "displayName": "Yogesh Olla",
      "userId": "12295718550883270853"
     },
     "user_tz": -330
    },
    "id": "AfxnozWpkjY7"
   },
   "outputs": [],
   "source": [
    "import pandas as pd\n",
    "import numpy as np\n",
    "import opendatasets as od\n",
    "import plotly.express as px\n",
    "import matplotlib.pyplot as plt\n",
    "import seaborn as sns"
   ]
  },
  {
   "cell_type": "markdown",
   "metadata": {
    "id": "Otid8gjTkRQ9"
   },
   "source": [
    "## Download the Data "
   ]
  },
  {
   "cell_type": "code",
   "execution_count": 3,
   "metadata": {
    "executionInfo": {
     "elapsed": 8,
     "status": "ok",
     "timestamp": 1662901759663,
     "user": {
      "displayName": "Yogesh Olla",
      "userId": "12295718550883270853"
     },
     "user_tz": -330
    },
    "id": "8-jHGXE0mILU"
   },
   "outputs": [],
   "source": [
    "aq_data_url = 'https://www.kaggle.com/datasets/rohanrao/air-quality-data-in-india?select=station_hour.csv'"
   ]
  },
  {
   "cell_type": "code",
   "execution_count": 4,
   "metadata": {
    "colab": {
     "base_uri": "https://localhost:8080/"
    },
    "executionInfo": {
     "elapsed": 9,
     "status": "ok",
     "timestamp": 1662901759664,
     "user": {
      "displayName": "Yogesh Olla",
      "userId": "12295718550883270853"
     },
     "user_tz": -330
    },
    "id": "DBJE1PGDmZic",
    "outputId": "ac57c0f6-6339-4275-dc47-6be186835178"
   },
   "outputs": [
    {
     "name": "stdout",
     "output_type": "stream",
     "text": [
      "Downloading air-quality-data-in-india.zip to air_quality_data/air-quality-data-in-india\n"
     ]
    },
    {
     "name": "stderr",
     "output_type": "stream",
     "text": [
      "100%|██████████████████████████████████████████████████████████████████████████████████████████████████████████████████████████████████████████████████| 72.9M/72.9M [00:10<00:00, 7.45MB/s]\n"
     ]
    },
    {
     "name": "stdout",
     "output_type": "stream",
     "text": [
      "\n"
     ]
    }
   ],
   "source": [
    "od.download(aq_data_url,'air_quality_data')"
   ]
  },
  {
   "cell_type": "markdown",
   "metadata": {
    "id": "DT9xtrN3nKSj"
   },
   "source": [
    "## Data Prepration and Cleaning\n",
    "\n",
    "- Load the file to a dataframe using pandas\n",
    "- Look at information about the file\n",
    "- Fix missing and incorrect values"
   ]
  },
  {
   "cell_type": "code",
   "execution_count": 24,
   "metadata": {
    "executionInfo": {
     "elapsed": 7,
     "status": "ok",
     "timestamp": 1662901759664,
     "user": {
      "displayName": "Yogesh Olla",
      "userId": "12295718550883270853"
     },
     "user_tz": -330
    },
    "id": "apaWVbv0nipR"
   },
   "outputs": [],
   "source": [
    "station_hourly_data = 'air_quality_data/air-quality-data-in-india/station_hour.csv'"
   ]
  },
  {
   "cell_type": "code",
   "execution_count": 25,
   "metadata": {},
   "outputs": [],
   "source": [
    "selected_dtypes = {\n",
    "    'PM2.5': 'float32',\n",
    "    'PM10': 'float32',\n",
    "    'NO': 'float32',\n",
    "    'NO2': 'float32',\n",
    "    'NOx': 'float32',\n",
    "    'NH3': 'float32',\n",
    "    'CO': 'float32',\n",
    "    'SO2': 'float32',\n",
    "    'O3': 'float32',\n",
    "    'Benzene': 'float32',\n",
    "    'Toluene': 'float32',\n",
    "    'Xylene': 'float32',\n",
    "    'AQI': 'float32',\n",
    "    'AQI_Bucket': 'object'\n",
    "}"
   ]
  },
  {
   "cell_type": "code",
   "execution_count": 26,
   "metadata": {
    "colab": {
     "base_uri": "https://localhost:8080/"
    },
    "executionInfo": {
     "elapsed": 4556,
     "status": "ok",
     "timestamp": 1662901764214,
     "user": {
      "displayName": "Yogesh Olla",
      "userId": "12295718550883270853"
     },
     "user_tz": -330
    },
    "id": "DkhAsccqnXhi",
    "outputId": "ef29c222-7551-4d81-bade-256a2fbe9b79"
   },
   "outputs": [],
   "source": [
    "station_df = pd.read_csv(station_hourly_data, dtype=selected_dtypes, parse_dates=['Datetime'])"
   ]
  },
  {
   "cell_type": "code",
   "execution_count": 18,
   "metadata": {
    "colab": {
     "base_uri": "https://localhost:8080/",
     "height": 206
    },
    "executionInfo": {
     "elapsed": 14,
     "status": "ok",
     "timestamp": 1662901764214,
     "user": {
      "displayName": "Yogesh Olla",
      "userId": "12295718550883270853"
     },
     "user_tz": -330
    },
    "id": "a6Ih4ypQnwbh",
    "outputId": "a8aa1287-8c7c-48ab-f78c-b56107aadbc8"
   },
   "outputs": [
    {
     "data": {
      "text/html": [
       "<div>\n",
       "<style scoped>\n",
       "    .dataframe tbody tr th:only-of-type {\n",
       "        vertical-align: middle;\n",
       "    }\n",
       "\n",
       "    .dataframe tbody tr th {\n",
       "        vertical-align: top;\n",
       "    }\n",
       "\n",
       "    .dataframe thead th {\n",
       "        text-align: right;\n",
       "    }\n",
       "</style>\n",
       "<table border=\"1\" class=\"dataframe\">\n",
       "  <thead>\n",
       "    <tr style=\"text-align: right;\">\n",
       "      <th></th>\n",
       "      <th>StationId</th>\n",
       "      <th>Datetime</th>\n",
       "      <th>PM2.5</th>\n",
       "      <th>PM10</th>\n",
       "      <th>NO</th>\n",
       "      <th>NO2</th>\n",
       "      <th>NOx</th>\n",
       "      <th>NH3</th>\n",
       "      <th>CO</th>\n",
       "      <th>SO2</th>\n",
       "      <th>O3</th>\n",
       "      <th>Benzene</th>\n",
       "      <th>Toluene</th>\n",
       "      <th>Xylene</th>\n",
       "      <th>AQI</th>\n",
       "      <th>AQI_Bucket</th>\n",
       "    </tr>\n",
       "  </thead>\n",
       "  <tbody>\n",
       "    <tr>\n",
       "      <th>0</th>\n",
       "      <td>AP001</td>\n",
       "      <td>2017-11-24 17:00:00</td>\n",
       "      <td>60.50</td>\n",
       "      <td>98.00</td>\n",
       "      <td>2.35</td>\n",
       "      <td>30.799999</td>\n",
       "      <td>18.25</td>\n",
       "      <td>8.50</td>\n",
       "      <td>0.1</td>\n",
       "      <td>11.85</td>\n",
       "      <td>126.400002</td>\n",
       "      <td>0.1</td>\n",
       "      <td>6.10</td>\n",
       "      <td>0.10</td>\n",
       "      <td>NaN</td>\n",
       "      <td>NaN</td>\n",
       "    </tr>\n",
       "    <tr>\n",
       "      <th>1</th>\n",
       "      <td>AP001</td>\n",
       "      <td>2017-11-24 18:00:00</td>\n",
       "      <td>65.50</td>\n",
       "      <td>111.25</td>\n",
       "      <td>2.70</td>\n",
       "      <td>24.200001</td>\n",
       "      <td>15.07</td>\n",
       "      <td>9.77</td>\n",
       "      <td>0.1</td>\n",
       "      <td>13.17</td>\n",
       "      <td>117.120003</td>\n",
       "      <td>0.1</td>\n",
       "      <td>6.25</td>\n",
       "      <td>0.15</td>\n",
       "      <td>NaN</td>\n",
       "      <td>NaN</td>\n",
       "    </tr>\n",
       "    <tr>\n",
       "      <th>2</th>\n",
       "      <td>AP001</td>\n",
       "      <td>2017-11-24 19:00:00</td>\n",
       "      <td>80.00</td>\n",
       "      <td>132.00</td>\n",
       "      <td>2.10</td>\n",
       "      <td>25.180000</td>\n",
       "      <td>15.15</td>\n",
       "      <td>12.02</td>\n",
       "      <td>0.1</td>\n",
       "      <td>12.08</td>\n",
       "      <td>98.980003</td>\n",
       "      <td>0.2</td>\n",
       "      <td>5.98</td>\n",
       "      <td>0.18</td>\n",
       "      <td>NaN</td>\n",
       "      <td>NaN</td>\n",
       "    </tr>\n",
       "    <tr>\n",
       "      <th>3</th>\n",
       "      <td>AP001</td>\n",
       "      <td>2017-11-24 20:00:00</td>\n",
       "      <td>81.50</td>\n",
       "      <td>133.25</td>\n",
       "      <td>1.95</td>\n",
       "      <td>16.250000</td>\n",
       "      <td>10.23</td>\n",
       "      <td>11.58</td>\n",
       "      <td>0.1</td>\n",
       "      <td>10.47</td>\n",
       "      <td>112.199997</td>\n",
       "      <td>0.2</td>\n",
       "      <td>6.72</td>\n",
       "      <td>0.10</td>\n",
       "      <td>NaN</td>\n",
       "      <td>NaN</td>\n",
       "    </tr>\n",
       "    <tr>\n",
       "      <th>4</th>\n",
       "      <td>AP001</td>\n",
       "      <td>2017-11-24 21:00:00</td>\n",
       "      <td>75.25</td>\n",
       "      <td>116.00</td>\n",
       "      <td>1.43</td>\n",
       "      <td>17.480000</td>\n",
       "      <td>10.43</td>\n",
       "      <td>12.03</td>\n",
       "      <td>0.1</td>\n",
       "      <td>9.12</td>\n",
       "      <td>106.349998</td>\n",
       "      <td>0.2</td>\n",
       "      <td>5.75</td>\n",
       "      <td>0.08</td>\n",
       "      <td>NaN</td>\n",
       "      <td>NaN</td>\n",
       "    </tr>\n",
       "  </tbody>\n",
       "</table>\n",
       "</div>"
      ],
      "text/plain": [
       "  StationId            Datetime  PM2.5    PM10    NO        NO2    NOx    NH3  \\\n",
       "0     AP001 2017-11-24 17:00:00  60.50   98.00  2.35  30.799999  18.25   8.50   \n",
       "1     AP001 2017-11-24 18:00:00  65.50  111.25  2.70  24.200001  15.07   9.77   \n",
       "2     AP001 2017-11-24 19:00:00  80.00  132.00  2.10  25.180000  15.15  12.02   \n",
       "3     AP001 2017-11-24 20:00:00  81.50  133.25  1.95  16.250000  10.23  11.58   \n",
       "4     AP001 2017-11-24 21:00:00  75.25  116.00  1.43  17.480000  10.43  12.03   \n",
       "\n",
       "    CO    SO2          O3  Benzene  Toluene  Xylene  AQI AQI_Bucket  \n",
       "0  0.1  11.85  126.400002      0.1     6.10    0.10  NaN        NaN  \n",
       "1  0.1  13.17  117.120003      0.1     6.25    0.15  NaN        NaN  \n",
       "2  0.1  12.08   98.980003      0.2     5.98    0.18  NaN        NaN  \n",
       "3  0.1  10.47  112.199997      0.2     6.72    0.10  NaN        NaN  \n",
       "4  0.1   9.12  106.349998      0.2     5.75    0.08  NaN        NaN  "
      ]
     },
     "execution_count": 18,
     "metadata": {},
     "output_type": "execute_result"
    }
   ],
   "source": [
    "station_df.head()"
   ]
  },
  {
   "cell_type": "code",
   "execution_count": 19,
   "metadata": {
    "colab": {
     "base_uri": "https://localhost:8080/",
     "height": 364
    },
    "executionInfo": {
     "elapsed": 2467,
     "status": "ok",
     "timestamp": 1662901918584,
     "user": {
      "displayName": "Yogesh Olla",
      "userId": "12295718550883270853"
     },
     "user_tz": -330
    },
    "id": "psu1PT_YrYoK",
    "outputId": "e4c3cad4-5a1b-4f6a-dfe3-cd34983846e9"
   },
   "outputs": [
    {
     "data": {
      "text/html": [
       "<div>\n",
       "<style scoped>\n",
       "    .dataframe tbody tr th:only-of-type {\n",
       "        vertical-align: middle;\n",
       "    }\n",
       "\n",
       "    .dataframe tbody tr th {\n",
       "        vertical-align: top;\n",
       "    }\n",
       "\n",
       "    .dataframe thead th {\n",
       "        text-align: right;\n",
       "    }\n",
       "</style>\n",
       "<table border=\"1\" class=\"dataframe\">\n",
       "  <thead>\n",
       "    <tr style=\"text-align: right;\">\n",
       "      <th></th>\n",
       "      <th>PM2.5</th>\n",
       "      <th>PM10</th>\n",
       "      <th>NO</th>\n",
       "      <th>NO2</th>\n",
       "      <th>NOx</th>\n",
       "      <th>NH3</th>\n",
       "      <th>CO</th>\n",
       "      <th>SO2</th>\n",
       "      <th>O3</th>\n",
       "      <th>Benzene</th>\n",
       "      <th>Toluene</th>\n",
       "      <th>Xylene</th>\n",
       "      <th>AQI</th>\n",
       "    </tr>\n",
       "  </thead>\n",
       "  <tbody>\n",
       "    <tr>\n",
       "      <th>count</th>\n",
       "      <td>1.941394e+06</td>\n",
       "      <td>1.469831e+06</td>\n",
       "      <td>2.035372e+06</td>\n",
       "      <td>2.060110e+06</td>\n",
       "      <td>2.098275e+06</td>\n",
       "      <td>1.352465e+06</td>\n",
       "      <td>2.089781e+06</td>\n",
       "      <td>1.846346e+06</td>\n",
       "      <td>1.863110e+06</td>\n",
       "      <td>1.727504e+06</td>\n",
       "      <td>1.546717e+06</td>\n",
       "      <td>513979.000000</td>\n",
       "      <td>2.018893e+06</td>\n",
       "    </tr>\n",
       "    <tr>\n",
       "      <th>mean</th>\n",
       "      <td>8.086481e+01</td>\n",
       "      <td>1.584839e+02</td>\n",
       "      <td>2.278826e+01</td>\n",
       "      <td>3.523690e+01</td>\n",
       "      <td>4.055115e+01</td>\n",
       "      <td>2.870857e+01</td>\n",
       "      <td>1.502366e+00</td>\n",
       "      <td>1.211603e+01</td>\n",
       "      <td>3.806410e+01</td>\n",
       "      <td>3.305494e+00</td>\n",
       "      <td>1.490267e+01</td>\n",
       "      <td>2.448881</td>\n",
       "      <td>1.801732e+02</td>\n",
       "    </tr>\n",
       "    <tr>\n",
       "      <th>std</th>\n",
       "      <td>8.947618e+01</td>\n",
       "      <td>1.397883e+02</td>\n",
       "      <td>4.846146e+01</td>\n",
       "      <td>3.497508e+01</td>\n",
       "      <td>5.590894e+01</td>\n",
       "      <td>2.753244e+01</td>\n",
       "      <td>6.292445e+00</td>\n",
       "      <td>1.467385e+01</td>\n",
       "      <td>4.710653e+01</td>\n",
       "      <td>1.214053e+01</td>\n",
       "      <td>3.329729e+01</td>\n",
       "      <td>8.973470</td>\n",
       "      <td>1.404095e+02</td>\n",
       "    </tr>\n",
       "    <tr>\n",
       "      <th>min</th>\n",
       "      <td>1.000000e-02</td>\n",
       "      <td>1.000000e-02</td>\n",
       "      <td>1.000000e-02</td>\n",
       "      <td>1.000000e-02</td>\n",
       "      <td>0.000000e+00</td>\n",
       "      <td>1.000000e-02</td>\n",
       "      <td>0.000000e+00</td>\n",
       "      <td>1.000000e-02</td>\n",
       "      <td>1.000000e-02</td>\n",
       "      <td>0.000000e+00</td>\n",
       "      <td>0.000000e+00</td>\n",
       "      <td>0.000000</td>\n",
       "      <td>5.000000e+00</td>\n",
       "    </tr>\n",
       "    <tr>\n",
       "      <th>25%</th>\n",
       "      <td>2.816000e+01</td>\n",
       "      <td>6.400000e+01</td>\n",
       "      <td>3.050000e+00</td>\n",
       "      <td>1.310000e+01</td>\n",
       "      <td>1.135000e+01</td>\n",
       "      <td>1.123000e+01</td>\n",
       "      <td>4.100000e-01</td>\n",
       "      <td>4.250000e+00</td>\n",
       "      <td>1.102000e+01</td>\n",
       "      <td>8.000000e-02</td>\n",
       "      <td>3.400000e-01</td>\n",
       "      <td>0.000000</td>\n",
       "      <td>8.400000e+01</td>\n",
       "    </tr>\n",
       "    <tr>\n",
       "      <th>50%</th>\n",
       "      <td>5.259000e+01</td>\n",
       "      <td>1.162500e+02</td>\n",
       "      <td>7.150000e+00</td>\n",
       "      <td>2.479000e+01</td>\n",
       "      <td>2.286000e+01</td>\n",
       "      <td>2.235000e+01</td>\n",
       "      <td>8.000000e-01</td>\n",
       "      <td>8.250000e+00</td>\n",
       "      <td>2.475000e+01</td>\n",
       "      <td>9.600000e-01</td>\n",
       "      <td>3.400000e+00</td>\n",
       "      <td>0.200000</td>\n",
       "      <td>1.310000e+02</td>\n",
       "    </tr>\n",
       "    <tr>\n",
       "      <th>75%</th>\n",
       "      <td>9.774000e+01</td>\n",
       "      <td>2.040000e+02</td>\n",
       "      <td>1.858000e+01</td>\n",
       "      <td>4.548000e+01</td>\n",
       "      <td>4.570000e+01</td>\n",
       "      <td>3.778000e+01</td>\n",
       "      <td>1.380000e+00</td>\n",
       "      <td>1.453000e+01</td>\n",
       "      <td>4.953000e+01</td>\n",
       "      <td>3.230000e+00</td>\n",
       "      <td>1.510000e+01</td>\n",
       "      <td>1.830000</td>\n",
       "      <td>2.590000e+02</td>\n",
       "    </tr>\n",
       "    <tr>\n",
       "      <th>max</th>\n",
       "      <td>1.000000e+03</td>\n",
       "      <td>1.000000e+03</td>\n",
       "      <td>5.000000e+02</td>\n",
       "      <td>4.999900e+02</td>\n",
       "      <td>5.000000e+02</td>\n",
       "      <td>4.999700e+02</td>\n",
       "      <td>4.985700e+02</td>\n",
       "      <td>1.999600e+02</td>\n",
       "      <td>9.970000e+02</td>\n",
       "      <td>4.980700e+02</td>\n",
       "      <td>4.999900e+02</td>\n",
       "      <td>499.989990</td>\n",
       "      <td>3.133000e+03</td>\n",
       "    </tr>\n",
       "  </tbody>\n",
       "</table>\n",
       "</div>"
      ],
      "text/plain": [
       "              PM2.5          PM10            NO           NO2           NOx  \\\n",
       "count  1.941394e+06  1.469831e+06  2.035372e+06  2.060110e+06  2.098275e+06   \n",
       "mean   8.086481e+01  1.584839e+02  2.278826e+01  3.523690e+01  4.055115e+01   \n",
       "std    8.947618e+01  1.397883e+02  4.846146e+01  3.497508e+01  5.590894e+01   \n",
       "min    1.000000e-02  1.000000e-02  1.000000e-02  1.000000e-02  0.000000e+00   \n",
       "25%    2.816000e+01  6.400000e+01  3.050000e+00  1.310000e+01  1.135000e+01   \n",
       "50%    5.259000e+01  1.162500e+02  7.150000e+00  2.479000e+01  2.286000e+01   \n",
       "75%    9.774000e+01  2.040000e+02  1.858000e+01  4.548000e+01  4.570000e+01   \n",
       "max    1.000000e+03  1.000000e+03  5.000000e+02  4.999900e+02  5.000000e+02   \n",
       "\n",
       "                NH3            CO           SO2            O3       Benzene  \\\n",
       "count  1.352465e+06  2.089781e+06  1.846346e+06  1.863110e+06  1.727504e+06   \n",
       "mean   2.870857e+01  1.502366e+00  1.211603e+01  3.806410e+01  3.305494e+00   \n",
       "std    2.753244e+01  6.292445e+00  1.467385e+01  4.710653e+01  1.214053e+01   \n",
       "min    1.000000e-02  0.000000e+00  1.000000e-02  1.000000e-02  0.000000e+00   \n",
       "25%    1.123000e+01  4.100000e-01  4.250000e+00  1.102000e+01  8.000000e-02   \n",
       "50%    2.235000e+01  8.000000e-01  8.250000e+00  2.475000e+01  9.600000e-01   \n",
       "75%    3.778000e+01  1.380000e+00  1.453000e+01  4.953000e+01  3.230000e+00   \n",
       "max    4.999700e+02  4.985700e+02  1.999600e+02  9.970000e+02  4.980700e+02   \n",
       "\n",
       "            Toluene         Xylene           AQI  \n",
       "count  1.546717e+06  513979.000000  2.018893e+06  \n",
       "mean   1.490267e+01       2.448881  1.801732e+02  \n",
       "std    3.329729e+01       8.973470  1.404095e+02  \n",
       "min    0.000000e+00       0.000000  5.000000e+00  \n",
       "25%    3.400000e-01       0.000000  8.400000e+01  \n",
       "50%    3.400000e+00       0.200000  1.310000e+02  \n",
       "75%    1.510000e+01       1.830000  2.590000e+02  \n",
       "max    4.999900e+02     499.989990  3.133000e+03  "
      ]
     },
     "execution_count": 19,
     "metadata": {},
     "output_type": "execute_result"
    }
   ],
   "source": [
    "station_df.describe()"
   ]
  },
  {
   "cell_type": "code",
   "execution_count": 20,
   "metadata": {
    "colab": {
     "base_uri": "https://localhost:8080/"
    },
    "executionInfo": {
     "elapsed": 1020,
     "status": "ok",
     "timestamp": 1662901880104,
     "user": {
      "displayName": "Yogesh Olla",
      "userId": "12295718550883270853"
     },
     "user_tz": -330
    },
    "id": "nj9G0bqCn1BJ",
    "outputId": "3f22154e-d604-44e2-d7e8-b6f821bd3aa6"
   },
   "outputs": [
    {
     "name": "stdout",
     "output_type": "stream",
     "text": [
      "<class 'pandas.core.frame.DataFrame'>\n",
      "RangeIndex: 2589083 entries, 0 to 2589082\n",
      "Data columns (total 16 columns):\n",
      " #   Column      Non-Null Count    Dtype         \n",
      "---  ------      --------------    -----         \n",
      " 0   StationId   2589083 non-null  object        \n",
      " 1   Datetime    2589083 non-null  datetime64[ns]\n",
      " 2   PM2.5       1941394 non-null  float32       \n",
      " 3   PM10        1469831 non-null  float32       \n",
      " 4   NO          2035372 non-null  float32       \n",
      " 5   NO2         2060110 non-null  float32       \n",
      " 6   NOx         2098275 non-null  float32       \n",
      " 7   NH3         1352465 non-null  float32       \n",
      " 8   CO          2089781 non-null  float32       \n",
      " 9   SO2         1846346 non-null  float32       \n",
      " 10  O3          1863110 non-null  float32       \n",
      " 11  Benzene     1727504 non-null  float32       \n",
      " 12  Toluene     1546717 non-null  float32       \n",
      " 13  Xylene      513979 non-null   float32       \n",
      " 14  AQI         2018893 non-null  float32       \n",
      " 15  AQI_Bucket  2018893 non-null  object        \n",
      "dtypes: datetime64[ns](1), float32(13), object(2)\n",
      "memory usage: 187.7+ MB\n"
     ]
    }
   ],
   "source": [
    "station_df.info(verbose=True, show_counts=True)"
   ]
  },
  {
   "cell_type": "code",
   "execution_count": 22,
   "metadata": {
    "colab": {
     "base_uri": "https://localhost:8080/",
     "height": 364
    },
    "executionInfo": {
     "elapsed": 2165,
     "status": "ok",
     "timestamp": 1662900998612,
     "user": {
      "displayName": "Yogesh Olla",
      "userId": "12295718550883270853"
     },
     "user_tz": -330
    },
    "id": "jGT7Ljdkn3Ri",
    "outputId": "3565dfcc-5c8e-45ed-cb26-9775a91badbf"
   },
   "outputs": [
    {
     "data": {
      "text/html": [
       "\n",
       "  <div id=\"df-869d0637-6f04-4934-b0f2-146a5a3d9e75\">\n",
       "    <div class=\"colab-df-container\">\n",
       "      <div>\n",
       "<style scoped>\n",
       "    .dataframe tbody tr th:only-of-type {\n",
       "        vertical-align: middle;\n",
       "    }\n",
       "\n",
       "    .dataframe tbody tr th {\n",
       "        vertical-align: top;\n",
       "    }\n",
       "\n",
       "    .dataframe thead th {\n",
       "        text-align: right;\n",
       "    }\n",
       "</style>\n",
       "<table border=\"1\" class=\"dataframe\">\n",
       "  <thead>\n",
       "    <tr style=\"text-align: right;\">\n",
       "      <th></th>\n",
       "      <th>PM2.5</th>\n",
       "      <th>PM10</th>\n",
       "      <th>NO</th>\n",
       "      <th>NO2</th>\n",
       "      <th>NOx</th>\n",
       "      <th>NH3</th>\n",
       "      <th>CO</th>\n",
       "      <th>SO2</th>\n",
       "      <th>O3</th>\n",
       "      <th>Benzene</th>\n",
       "      <th>Toluene</th>\n",
       "      <th>Xylene</th>\n",
       "      <th>AQI</th>\n",
       "    </tr>\n",
       "  </thead>\n",
       "  <tbody>\n",
       "    <tr>\n",
       "      <th>count</th>\n",
       "      <td>1.941394e+06</td>\n",
       "      <td>1.469831e+06</td>\n",
       "      <td>2.035372e+06</td>\n",
       "      <td>2.060110e+06</td>\n",
       "      <td>2.098275e+06</td>\n",
       "      <td>1.352465e+06</td>\n",
       "      <td>2.089781e+06</td>\n",
       "      <td>1.846346e+06</td>\n",
       "      <td>1.863110e+06</td>\n",
       "      <td>1.727504e+06</td>\n",
       "      <td>1.546717e+06</td>\n",
       "      <td>513979.000000</td>\n",
       "      <td>2.018893e+06</td>\n",
       "    </tr>\n",
       "    <tr>\n",
       "      <th>mean</th>\n",
       "      <td>8.086481e+01</td>\n",
       "      <td>1.584839e+02</td>\n",
       "      <td>2.278825e+01</td>\n",
       "      <td>3.523689e+01</td>\n",
       "      <td>4.055115e+01</td>\n",
       "      <td>2.870856e+01</td>\n",
       "      <td>1.502366e+00</td>\n",
       "      <td>1.211602e+01</td>\n",
       "      <td>3.806408e+01</td>\n",
       "      <td>3.305493e+00</td>\n",
       "      <td>1.490266e+01</td>\n",
       "      <td>2.448881</td>\n",
       "      <td>1.801730e+02</td>\n",
       "    </tr>\n",
       "    <tr>\n",
       "      <th>std</th>\n",
       "      <td>8.947618e+01</td>\n",
       "      <td>1.397883e+02</td>\n",
       "      <td>4.846146e+01</td>\n",
       "      <td>3.497508e+01</td>\n",
       "      <td>5.590894e+01</td>\n",
       "      <td>2.753244e+01</td>\n",
       "      <td>6.292445e+00</td>\n",
       "      <td>1.467385e+01</td>\n",
       "      <td>4.710653e+01</td>\n",
       "      <td>1.214053e+01</td>\n",
       "      <td>3.329729e+01</td>\n",
       "      <td>8.973470</td>\n",
       "      <td>1.404095e+02</td>\n",
       "    </tr>\n",
       "    <tr>\n",
       "      <th>min</th>\n",
       "      <td>1.000000e-02</td>\n",
       "      <td>1.000000e-02</td>\n",
       "      <td>1.000000e-02</td>\n",
       "      <td>1.000000e-02</td>\n",
       "      <td>0.000000e+00</td>\n",
       "      <td>1.000000e-02</td>\n",
       "      <td>0.000000e+00</td>\n",
       "      <td>1.000000e-02</td>\n",
       "      <td>1.000000e-02</td>\n",
       "      <td>0.000000e+00</td>\n",
       "      <td>0.000000e+00</td>\n",
       "      <td>0.000000</td>\n",
       "      <td>5.000000e+00</td>\n",
       "    </tr>\n",
       "    <tr>\n",
       "      <th>25%</th>\n",
       "      <td>2.816000e+01</td>\n",
       "      <td>6.400000e+01</td>\n",
       "      <td>3.050000e+00</td>\n",
       "      <td>1.310000e+01</td>\n",
       "      <td>1.135000e+01</td>\n",
       "      <td>1.123000e+01</td>\n",
       "      <td>4.100000e-01</td>\n",
       "      <td>4.250000e+00</td>\n",
       "      <td>1.102000e+01</td>\n",
       "      <td>8.000000e-02</td>\n",
       "      <td>3.400000e-01</td>\n",
       "      <td>0.000000</td>\n",
       "      <td>8.400000e+01</td>\n",
       "    </tr>\n",
       "    <tr>\n",
       "      <th>50%</th>\n",
       "      <td>5.259000e+01</td>\n",
       "      <td>1.162500e+02</td>\n",
       "      <td>7.150000e+00</td>\n",
       "      <td>2.479000e+01</td>\n",
       "      <td>2.286000e+01</td>\n",
       "      <td>2.235000e+01</td>\n",
       "      <td>8.000000e-01</td>\n",
       "      <td>8.250000e+00</td>\n",
       "      <td>2.475000e+01</td>\n",
       "      <td>9.600000e-01</td>\n",
       "      <td>3.400000e+00</td>\n",
       "      <td>0.200000</td>\n",
       "      <td>1.310000e+02</td>\n",
       "    </tr>\n",
       "    <tr>\n",
       "      <th>75%</th>\n",
       "      <td>9.774000e+01</td>\n",
       "      <td>2.040000e+02</td>\n",
       "      <td>1.858000e+01</td>\n",
       "      <td>4.548000e+01</td>\n",
       "      <td>4.570000e+01</td>\n",
       "      <td>3.778000e+01</td>\n",
       "      <td>1.380000e+00</td>\n",
       "      <td>1.453000e+01</td>\n",
       "      <td>4.953000e+01</td>\n",
       "      <td>3.230000e+00</td>\n",
       "      <td>1.510000e+01</td>\n",
       "      <td>1.830000</td>\n",
       "      <td>2.590000e+02</td>\n",
       "    </tr>\n",
       "    <tr>\n",
       "      <th>max</th>\n",
       "      <td>1.000000e+03</td>\n",
       "      <td>1.000000e+03</td>\n",
       "      <td>5.000000e+02</td>\n",
       "      <td>4.999900e+02</td>\n",
       "      <td>5.000000e+02</td>\n",
       "      <td>4.999700e+02</td>\n",
       "      <td>4.985700e+02</td>\n",
       "      <td>1.999600e+02</td>\n",
       "      <td>9.970000e+02</td>\n",
       "      <td>4.980700e+02</td>\n",
       "      <td>4.999900e+02</td>\n",
       "      <td>499.990000</td>\n",
       "      <td>3.133000e+03</td>\n",
       "    </tr>\n",
       "  </tbody>\n",
       "</table>\n",
       "</div>\n",
       "      <button class=\"colab-df-convert\" onclick=\"convertToInteractive('df-869d0637-6f04-4934-b0f2-146a5a3d9e75')\"\n",
       "              title=\"Convert this dataframe to an interactive table.\"\n",
       "              style=\"display:none;\">\n",
       "        \n",
       "  <svg xmlns=\"http://www.w3.org/2000/svg\" height=\"24px\"viewBox=\"0 0 24 24\"\n",
       "       width=\"24px\">\n",
       "    <path d=\"M0 0h24v24H0V0z\" fill=\"none\"/>\n",
       "    <path d=\"M18.56 5.44l.94 2.06.94-2.06 2.06-.94-2.06-.94-.94-2.06-.94 2.06-2.06.94zm-11 1L8.5 8.5l.94-2.06 2.06-.94-2.06-.94L8.5 2.5l-.94 2.06-2.06.94zm10 10l.94 2.06.94-2.06 2.06-.94-2.06-.94-.94-2.06-.94 2.06-2.06.94z\"/><path d=\"M17.41 7.96l-1.37-1.37c-.4-.4-.92-.59-1.43-.59-.52 0-1.04.2-1.43.59L10.3 9.45l-7.72 7.72c-.78.78-.78 2.05 0 2.83L4 21.41c.39.39.9.59 1.41.59.51 0 1.02-.2 1.41-.59l7.78-7.78 2.81-2.81c.8-.78.8-2.07 0-2.86zM5.41 20L4 18.59l7.72-7.72 1.47 1.35L5.41 20z\"/>\n",
       "  </svg>\n",
       "      </button>\n",
       "      \n",
       "  <style>\n",
       "    .colab-df-container {\n",
       "      display:flex;\n",
       "      flex-wrap:wrap;\n",
       "      gap: 12px;\n",
       "    }\n",
       "\n",
       "    .colab-df-convert {\n",
       "      background-color: #E8F0FE;\n",
       "      border: none;\n",
       "      border-radius: 50%;\n",
       "      cursor: pointer;\n",
       "      display: none;\n",
       "      fill: #1967D2;\n",
       "      height: 32px;\n",
       "      padding: 0 0 0 0;\n",
       "      width: 32px;\n",
       "    }\n",
       "\n",
       "    .colab-df-convert:hover {\n",
       "      background-color: #E2EBFA;\n",
       "      box-shadow: 0px 1px 2px rgba(60, 64, 67, 0.3), 0px 1px 3px 1px rgba(60, 64, 67, 0.15);\n",
       "      fill: #174EA6;\n",
       "    }\n",
       "\n",
       "    [theme=dark] .colab-df-convert {\n",
       "      background-color: #3B4455;\n",
       "      fill: #D2E3FC;\n",
       "    }\n",
       "\n",
       "    [theme=dark] .colab-df-convert:hover {\n",
       "      background-color: #434B5C;\n",
       "      box-shadow: 0px 1px 3px 1px rgba(0, 0, 0, 0.15);\n",
       "      filter: drop-shadow(0px 1px 2px rgba(0, 0, 0, 0.3));\n",
       "      fill: #FFFFFF;\n",
       "    }\n",
       "  </style>\n",
       "\n",
       "      <script>\n",
       "        const buttonEl =\n",
       "          document.querySelector('#df-869d0637-6f04-4934-b0f2-146a5a3d9e75 button.colab-df-convert');\n",
       "        buttonEl.style.display =\n",
       "          google.colab.kernel.accessAllowed ? 'block' : 'none';\n",
       "\n",
       "        async function convertToInteractive(key) {\n",
       "          const element = document.querySelector('#df-869d0637-6f04-4934-b0f2-146a5a3d9e75');\n",
       "          const dataTable =\n",
       "            await google.colab.kernel.invokeFunction('convertToInteractive',\n",
       "                                                     [key], {});\n",
       "          if (!dataTable) return;\n",
       "\n",
       "          const docLinkHtml = 'Like what you see? Visit the ' +\n",
       "            '<a target=\"_blank\" href=https://colab.research.google.com/notebooks/data_table.ipynb>data table notebook</a>'\n",
       "            + ' to learn more about interactive tables.';\n",
       "          element.innerHTML = '';\n",
       "          dataTable['output_type'] = 'display_data';\n",
       "          await google.colab.output.renderOutput(dataTable, element);\n",
       "          const docLink = document.createElement('div');\n",
       "          docLink.innerHTML = docLinkHtml;\n",
       "          element.appendChild(docLink);\n",
       "        }\n",
       "      </script>\n",
       "    </div>\n",
       "  </div>\n",
       "  "
      ],
      "text/plain": [
       "              PM2.5          PM10            NO           NO2           NOx  \\\n",
       "count  1.941394e+06  1.469831e+06  2.035372e+06  2.060110e+06  2.098275e+06   \n",
       "mean   8.086481e+01  1.584839e+02  2.278825e+01  3.523689e+01  4.055115e+01   \n",
       "std    8.947618e+01  1.397883e+02  4.846146e+01  3.497508e+01  5.590894e+01   \n",
       "min    1.000000e-02  1.000000e-02  1.000000e-02  1.000000e-02  0.000000e+00   \n",
       "25%    2.816000e+01  6.400000e+01  3.050000e+00  1.310000e+01  1.135000e+01   \n",
       "50%    5.259000e+01  1.162500e+02  7.150000e+00  2.479000e+01  2.286000e+01   \n",
       "75%    9.774000e+01  2.040000e+02  1.858000e+01  4.548000e+01  4.570000e+01   \n",
       "max    1.000000e+03  1.000000e+03  5.000000e+02  4.999900e+02  5.000000e+02   \n",
       "\n",
       "                NH3            CO           SO2            O3       Benzene  \\\n",
       "count  1.352465e+06  2.089781e+06  1.846346e+06  1.863110e+06  1.727504e+06   \n",
       "mean   2.870856e+01  1.502366e+00  1.211602e+01  3.806408e+01  3.305493e+00   \n",
       "std    2.753244e+01  6.292445e+00  1.467385e+01  4.710653e+01  1.214053e+01   \n",
       "min    1.000000e-02  0.000000e+00  1.000000e-02  1.000000e-02  0.000000e+00   \n",
       "25%    1.123000e+01  4.100000e-01  4.250000e+00  1.102000e+01  8.000000e-02   \n",
       "50%    2.235000e+01  8.000000e-01  8.250000e+00  2.475000e+01  9.600000e-01   \n",
       "75%    3.778000e+01  1.380000e+00  1.453000e+01  4.953000e+01  3.230000e+00   \n",
       "max    4.999700e+02  4.985700e+02  1.999600e+02  9.970000e+02  4.980700e+02   \n",
       "\n",
       "            Toluene         Xylene           AQI  \n",
       "count  1.546717e+06  513979.000000  2.018893e+06  \n",
       "mean   1.490266e+01       2.448881  1.801730e+02  \n",
       "std    3.329729e+01       8.973470  1.404095e+02  \n",
       "min    0.000000e+00       0.000000  5.000000e+00  \n",
       "25%    3.400000e-01       0.000000  8.400000e+01  \n",
       "50%    3.400000e+00       0.200000  1.310000e+02  \n",
       "75%    1.510000e+01       1.830000  2.590000e+02  \n",
       "max    4.999900e+02     499.990000  3.133000e+03  "
      ]
     },
     "execution_count": 22,
     "metadata": {},
     "output_type": "execute_result"
    }
   ],
   "source": []
  },
  {
   "cell_type": "markdown",
   "metadata": {
    "id": "jlRgDXLFjOLb"
   },
   "source": [
    "## Exploratory Analysis and Visualization"
   ]
  },
  {
   "cell_type": "code",
   "execution_count": 14,
   "metadata": {
    "executionInfo": {
     "elapsed": 548,
     "status": "ok",
     "timestamp": 1662900874093,
     "user": {
      "displayName": "Yogesh Olla",
      "userId": "12295718550883270853"
     },
     "user_tz": -330
    },
    "id": "mRiQMR95mvQc"
   },
   "outputs": [],
   "source": []
  },
  {
   "cell_type": "markdown",
   "metadata": {
    "id": "jnqEplw6jOLc"
   },
   "source": [
    "## Ask & Answer Questions\n",
    "\n",
    "- Top polluted cities\n",
    "- Least polluted cities\n",
    "- Most coomon form of contaimantion\n",
    "- Season Cycles\n",
    "- Effect of 2020 Lockdown"
   ]
  },
  {
   "cell_type": "code",
   "execution_count": null,
   "metadata": {
    "id": "ZE1Fv3hQpGY4"
   },
   "outputs": [],
   "source": []
  },
  {
   "cell_type": "markdown",
   "metadata": {
    "id": "9uwmJa14kvJy"
   },
   "source": [
    "## Summary "
   ]
  },
  {
   "cell_type": "markdown",
   "metadata": {
    "id": "vixP0MVCk0XR"
   },
   "source": [
    "## Reference "
   ]
  }
 ],
 "metadata": {
  "colab": {
   "collapsed_sections": [],
   "provenance": []
  },
  "kernelspec": {
   "display_name": "Python 3 (ipykernel)",
   "language": "python",
   "name": "python3"
  },
  "language_info": {
   "codemirror_mode": {
    "name": "ipython",
    "version": 3
   },
   "file_extension": ".py",
   "mimetype": "text/x-python",
   "name": "python",
   "nbconvert_exporter": "python",
   "pygments_lexer": "ipython3",
   "version": "3.10.4"
  }
 },
 "nbformat": 4,
 "nbformat_minor": 1
}
